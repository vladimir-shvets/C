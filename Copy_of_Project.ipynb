{
  "nbformat": 4,
  "nbformat_minor": 0,
  "metadata": {
    "colab": {
      "name": "Copy of Project.ipynb",
      "provenance": [],
      "collapsed_sections": [
        "2419b8uzFrst",
        "vlfkQSggkNqd",
        "oBDRSW0_UKfV",
        "54EgbjcbIXsO",
        "OPErfbiurp6X"
      ],
      "toc_visible": true,
      "machine_shape": "hm",
      "include_colab_link": true
    },
    "kernelspec": {
      "name": "python3",
      "display_name": "Python 3"
    },
    "accelerator": "GPU",
    "widgets": {
      "application/vnd.jupyter.widget-state+json": {
        "175aa29f592340de9e225a41f63fd9dd": {
          "model_module": "@jupyter-widgets/controls",
          "model_name": "HBoxModel",
          "state": {
            "_view_name": "HBoxView",
            "_dom_classes": [],
            "_model_name": "HBoxModel",
            "_view_module": "@jupyter-widgets/controls",
            "_model_module_version": "1.5.0",
            "_view_count": null,
            "_view_module_version": "1.5.0",
            "box_style": "",
            "layout": "IPY_MODEL_17c6264efcaa4b4baf752ad4f4a23e2b",
            "_model_module": "@jupyter-widgets/controls",
            "children": [
              "IPY_MODEL_48b9829a15b24e19883977bd9ae4e1f7",
              "IPY_MODEL_214154bb24ee4fb4a2afa6bb6fa67d38"
            ]
          }
        },
        "17c6264efcaa4b4baf752ad4f4a23e2b": {
          "model_module": "@jupyter-widgets/base",
          "model_name": "LayoutModel",
          "state": {
            "_view_name": "LayoutView",
            "grid_template_rows": null,
            "right": null,
            "justify_content": null,
            "_view_module": "@jupyter-widgets/base",
            "overflow": null,
            "_model_module_version": "1.2.0",
            "_view_count": null,
            "flex_flow": null,
            "width": null,
            "min_width": null,
            "border": null,
            "align_items": null,
            "bottom": null,
            "_model_module": "@jupyter-widgets/base",
            "top": null,
            "grid_column": null,
            "overflow_y": null,
            "overflow_x": null,
            "grid_auto_flow": null,
            "grid_area": null,
            "grid_template_columns": null,
            "flex": null,
            "_model_name": "LayoutModel",
            "justify_items": null,
            "grid_row": null,
            "max_height": null,
            "align_content": null,
            "visibility": null,
            "align_self": null,
            "height": null,
            "min_height": null,
            "padding": null,
            "grid_auto_rows": null,
            "grid_gap": null,
            "max_width": null,
            "order": null,
            "_view_module_version": "1.2.0",
            "grid_template_areas": null,
            "object_position": null,
            "object_fit": null,
            "grid_auto_columns": null,
            "margin": null,
            "display": null,
            "left": null
          }
        },
        "48b9829a15b24e19883977bd9ae4e1f7": {
          "model_module": "@jupyter-widgets/controls",
          "model_name": "FloatProgressModel",
          "state": {
            "_view_name": "ProgressView",
            "style": "IPY_MODEL_b71b37a29b1945fb804c2fa0d77c918a",
            "_dom_classes": [],
            "description": "100%",
            "_model_name": "FloatProgressModel",
            "bar_style": "success",
            "max": 553433881,
            "_view_module": "@jupyter-widgets/controls",
            "_model_module_version": "1.5.0",
            "value": 553433881,
            "_view_count": null,
            "_view_module_version": "1.5.0",
            "orientation": "horizontal",
            "min": 0,
            "description_tooltip": null,
            "_model_module": "@jupyter-widgets/controls",
            "layout": "IPY_MODEL_290783905f1c4fdebfa316aaeb753301"
          }
        },
        "214154bb24ee4fb4a2afa6bb6fa67d38": {
          "model_module": "@jupyter-widgets/controls",
          "model_name": "HTMLModel",
          "state": {
            "_view_name": "HTMLView",
            "style": "IPY_MODEL_b11688fa51454d5bb97191def04f69d1",
            "_dom_classes": [],
            "description": "",
            "_model_name": "HTMLModel",
            "placeholder": "​",
            "_view_module": "@jupyter-widgets/controls",
            "_model_module_version": "1.5.0",
            "value": " 528M/528M [00:25&lt;00:00, 21.4MB/s]",
            "_view_count": null,
            "_view_module_version": "1.5.0",
            "description_tooltip": null,
            "_model_module": "@jupyter-widgets/controls",
            "layout": "IPY_MODEL_a5e84796f5014f159ec648a63ba2a2a1"
          }
        },
        "b71b37a29b1945fb804c2fa0d77c918a": {
          "model_module": "@jupyter-widgets/controls",
          "model_name": "ProgressStyleModel",
          "state": {
            "_view_name": "StyleView",
            "_model_name": "ProgressStyleModel",
            "description_width": "initial",
            "_view_module": "@jupyter-widgets/base",
            "_model_module_version": "1.5.0",
            "_view_count": null,
            "_view_module_version": "1.2.0",
            "bar_color": null,
            "_model_module": "@jupyter-widgets/controls"
          }
        },
        "290783905f1c4fdebfa316aaeb753301": {
          "model_module": "@jupyter-widgets/base",
          "model_name": "LayoutModel",
          "state": {
            "_view_name": "LayoutView",
            "grid_template_rows": null,
            "right": null,
            "justify_content": null,
            "_view_module": "@jupyter-widgets/base",
            "overflow": null,
            "_model_module_version": "1.2.0",
            "_view_count": null,
            "flex_flow": null,
            "width": null,
            "min_width": null,
            "border": null,
            "align_items": null,
            "bottom": null,
            "_model_module": "@jupyter-widgets/base",
            "top": null,
            "grid_column": null,
            "overflow_y": null,
            "overflow_x": null,
            "grid_auto_flow": null,
            "grid_area": null,
            "grid_template_columns": null,
            "flex": null,
            "_model_name": "LayoutModel",
            "justify_items": null,
            "grid_row": null,
            "max_height": null,
            "align_content": null,
            "visibility": null,
            "align_self": null,
            "height": null,
            "min_height": null,
            "padding": null,
            "grid_auto_rows": null,
            "grid_gap": null,
            "max_width": null,
            "order": null,
            "_view_module_version": "1.2.0",
            "grid_template_areas": null,
            "object_position": null,
            "object_fit": null,
            "grid_auto_columns": null,
            "margin": null,
            "display": null,
            "left": null
          }
        },
        "b11688fa51454d5bb97191def04f69d1": {
          "model_module": "@jupyter-widgets/controls",
          "model_name": "DescriptionStyleModel",
          "state": {
            "_view_name": "StyleView",
            "_model_name": "DescriptionStyleModel",
            "description_width": "",
            "_view_module": "@jupyter-widgets/base",
            "_model_module_version": "1.5.0",
            "_view_count": null,
            "_view_module_version": "1.2.0",
            "_model_module": "@jupyter-widgets/controls"
          }
        },
        "a5e84796f5014f159ec648a63ba2a2a1": {
          "model_module": "@jupyter-widgets/base",
          "model_name": "LayoutModel",
          "state": {
            "_view_name": "LayoutView",
            "grid_template_rows": null,
            "right": null,
            "justify_content": null,
            "_view_module": "@jupyter-widgets/base",
            "overflow": null,
            "_model_module_version": "1.2.0",
            "_view_count": null,
            "flex_flow": null,
            "width": null,
            "min_width": null,
            "border": null,
            "align_items": null,
            "bottom": null,
            "_model_module": "@jupyter-widgets/base",
            "top": null,
            "grid_column": null,
            "overflow_y": null,
            "overflow_x": null,
            "grid_auto_flow": null,
            "grid_area": null,
            "grid_template_columns": null,
            "flex": null,
            "_model_name": "LayoutModel",
            "justify_items": null,
            "grid_row": null,
            "max_height": null,
            "align_content": null,
            "visibility": null,
            "align_self": null,
            "height": null,
            "min_height": null,
            "padding": null,
            "grid_auto_rows": null,
            "grid_gap": null,
            "max_width": null,
            "order": null,
            "_view_module_version": "1.2.0",
            "grid_template_areas": null,
            "object_position": null,
            "object_fit": null,
            "grid_auto_columns": null,
            "margin": null,
            "display": null,
            "left": null
          }
        }
      }
    }
  },
  "cells": [
    {
      "cell_type": "markdown",
      "metadata": {
        "id": "view-in-github",
        "colab_type": "text"
      },
      "source": [
        "<a href=\"https://colab.research.google.com/github/vladimir-shvets/C-projects/blob/master/Copy_of_Project.ipynb\" target=\"_parent\"><img src=\"https://colab.research.google.com/assets/colab-badge.svg\" alt=\"Open In Colab\"/></a>"
      ]
    },
    {
      "cell_type": "code",
      "metadata": {
        "id": "ous4FOfdFkbj",
        "colab_type": "code",
        "colab": {
          "base_uri": "https://localhost:8080/",
          "height": 135
        },
        "outputId": "6170a361-41c7-44f5-fe9c-dd7877ca4860"
      },
      "source": [
        "from google.colab import drive\n",
        "drive.mount('/content/drive')\n",
        "\n",
        "%cd drive/My\\ Drive/CV2/Exercises/"
      ],
      "execution_count": 1,
      "outputs": [
        {
          "output_type": "stream",
          "text": [
            "Go to this URL in a browser: https://accounts.google.com/o/oauth2/auth?client_id=947318989803-6bn6qk8qdgf4n4g3pfee6491hc0brc4i.apps.googleusercontent.com&redirect_uri=urn%3aietf%3awg%3aoauth%3a2.0%3aoob&response_type=code&scope=email%20https%3a%2f%2fwww.googleapis.com%2fauth%2fdocs.test%20https%3a%2f%2fwww.googleapis.com%2fauth%2fdrive%20https%3a%2f%2fwww.googleapis.com%2fauth%2fdrive.photos.readonly%20https%3a%2f%2fwww.googleapis.com%2fauth%2fpeopleapi.readonly\n",
            "\n",
            "Enter your authorization code:\n",
            "··········\n",
            "Mounted at /content/drive\n",
            "/content/drive/My Drive/CV2/Exercises\n"
          ],
          "name": "stdout"
        }
      ]
    },
    {
      "cell_type": "code",
      "metadata": {
        "id": "zZUkfjwBGsYN",
        "colab_type": "code",
        "colab": {
          "base_uri": "https://localhost:8080/",
          "height": 345
        },
        "outputId": "413dc042-78f9-4ab9-af18-c86244a1f8d7"
      },
      "source": [
        "gpu_info = !nvidia-smi\n",
        "gpu_info = '\\n'.join(gpu_info)\n",
        "if gpu_info.find('failed') >= 0:\n",
        "  print('Select the Runtime > \"Change runtime type\" menu to enable a GPU accelerator, ')\n",
        "  print('and then re-execute this cell.')\n",
        "else:\n",
        "  print(gpu_info)"
      ],
      "execution_count": 2,
      "outputs": [
        {
          "output_type": "stream",
          "text": [
            "Sun Jun 28 14:17:56 2020       \n",
            "+-----------------------------------------------------------------------------+\n",
            "| NVIDIA-SMI 450.36.06    Driver Version: 418.67       CUDA Version: 10.1     |\n",
            "|-------------------------------+----------------------+----------------------+\n",
            "| GPU  Name        Persistence-M| Bus-Id        Disp.A | Volatile Uncorr. ECC |\n",
            "| Fan  Temp  Perf  Pwr:Usage/Cap|         Memory-Usage | GPU-Util  Compute M. |\n",
            "|                               |                      |               MIG M. |\n",
            "|===============================+======================+======================|\n",
            "|   0  Tesla P100-PCIE...  Off  | 00000000:00:04.0 Off |                    0 |\n",
            "| N/A   37C    P0    27W / 250W |      0MiB / 16280MiB |      0%      Default |\n",
            "|                               |                      |                 ERR! |\n",
            "+-------------------------------+----------------------+----------------------+\n",
            "                                                                               \n",
            "+-----------------------------------------------------------------------------+\n",
            "| Processes:                                                                  |\n",
            "|  GPU   GI   CI        PID   Type   Process name                  GPU Memory |\n",
            "|        ID   ID                                                   Usage      |\n",
            "|=============================================================================|\n",
            "|  No running processes found                                                 |\n",
            "+-----------------------------------------------------------------------------+\n"
          ],
          "name": "stdout"
        }
      ]
    },
    {
      "cell_type": "markdown",
      "metadata": {
        "id": "LKrybCvuSJfC",
        "colab_type": "text"
      },
      "source": [
        "# Import all necessary libraries"
      ]
    },
    {
      "cell_type": "code",
      "metadata": {
        "id": "MJVnuiF5GKNh",
        "colab_type": "code",
        "colab": {}
      },
      "source": [
        "from __future__ import print_function\n",
        "import torch\n",
        "import torchvision\n",
        "import torch.nn as nn\n",
        "import torch.nn.functional as F\n",
        "import numpy as np\n",
        "from torch.utils.data import TensorDataset, DataLoader, Dataset\n",
        "import os\n",
        "import imageio\n",
        "import cv2\n",
        "import numpy as np"
      ],
      "execution_count": 3,
      "outputs": []
    },
    {
      "cell_type": "markdown",
      "metadata": {
        "id": "S98pm7w4Gf2_",
        "colab_type": "text"
      },
      "source": [
        "## 1. Encoder-decoder network for saliency prediction"
      ]
    },
    {
      "cell_type": "code",
      "metadata": {
        "id": "Xyc9RiQwiTuJ",
        "colab_type": "code",
        "colab": {
          "base_uri": "https://localhost:8080/",
          "height": 823,
          "referenced_widgets": [
            "175aa29f592340de9e225a41f63fd9dd",
            "17c6264efcaa4b4baf752ad4f4a23e2b",
            "48b9829a15b24e19883977bd9ae4e1f7",
            "214154bb24ee4fb4a2afa6bb6fa67d38",
            "b71b37a29b1945fb804c2fa0d77c918a",
            "290783905f1c4fdebfa316aaeb753301",
            "b11688fa51454d5bb97191def04f69d1",
            "a5e84796f5014f159ec648a63ba2a2a1"
          ]
        },
        "outputId": "5e059a13-fee3-41b0-a740-6bc13fd14a4b"
      },
      "source": [
        "vgg16_conv = torch.load('vgg16-conv.pth')\n",
        "vgg16 = torchvision.models.vgg16(pretrained=True)\n",
        "vgg16"
      ],
      "execution_count": 4,
      "outputs": [
        {
          "output_type": "stream",
          "text": [
            "Downloading: \"https://download.pytorch.org/models/vgg16-397923af.pth\" to /root/.cache/torch/checkpoints/vgg16-397923af.pth\n"
          ],
          "name": "stderr"
        },
        {
          "output_type": "display_data",
          "data": {
            "application/vnd.jupyter.widget-view+json": {
              "model_id": "175aa29f592340de9e225a41f63fd9dd",
              "version_minor": 0,
              "version_major": 2
            },
            "text/plain": [
              "HBox(children=(FloatProgress(value=0.0, max=553433881.0), HTML(value='')))"
            ]
          },
          "metadata": {
            "tags": []
          }
        },
        {
          "output_type": "stream",
          "text": [
            "\n"
          ],
          "name": "stdout"
        },
        {
          "output_type": "execute_result",
          "data": {
            "text/plain": [
              "VGG(\n",
              "  (features): Sequential(\n",
              "    (0): Conv2d(3, 64, kernel_size=(3, 3), stride=(1, 1), padding=(1, 1))\n",
              "    (1): ReLU(inplace=True)\n",
              "    (2): Conv2d(64, 64, kernel_size=(3, 3), stride=(1, 1), padding=(1, 1))\n",
              "    (3): ReLU(inplace=True)\n",
              "    (4): MaxPool2d(kernel_size=2, stride=2, padding=0, dilation=1, ceil_mode=False)\n",
              "    (5): Conv2d(64, 128, kernel_size=(3, 3), stride=(1, 1), padding=(1, 1))\n",
              "    (6): ReLU(inplace=True)\n",
              "    (7): Conv2d(128, 128, kernel_size=(3, 3), stride=(1, 1), padding=(1, 1))\n",
              "    (8): ReLU(inplace=True)\n",
              "    (9): MaxPool2d(kernel_size=2, stride=2, padding=0, dilation=1, ceil_mode=False)\n",
              "    (10): Conv2d(128, 256, kernel_size=(3, 3), stride=(1, 1), padding=(1, 1))\n",
              "    (11): ReLU(inplace=True)\n",
              "    (12): Conv2d(256, 256, kernel_size=(3, 3), stride=(1, 1), padding=(1, 1))\n",
              "    (13): ReLU(inplace=True)\n",
              "    (14): Conv2d(256, 256, kernel_size=(3, 3), stride=(1, 1), padding=(1, 1))\n",
              "    (15): ReLU(inplace=True)\n",
              "    (16): MaxPool2d(kernel_size=2, stride=2, padding=0, dilation=1, ceil_mode=False)\n",
              "    (17): Conv2d(256, 512, kernel_size=(3, 3), stride=(1, 1), padding=(1, 1))\n",
              "    (18): ReLU(inplace=True)\n",
              "    (19): Conv2d(512, 512, kernel_size=(3, 3), stride=(1, 1), padding=(1, 1))\n",
              "    (20): ReLU(inplace=True)\n",
              "    (21): Conv2d(512, 512, kernel_size=(3, 3), stride=(1, 1), padding=(1, 1))\n",
              "    (22): ReLU(inplace=True)\n",
              "    (23): MaxPool2d(kernel_size=2, stride=2, padding=0, dilation=1, ceil_mode=False)\n",
              "    (24): Conv2d(512, 512, kernel_size=(3, 3), stride=(1, 1), padding=(1, 1))\n",
              "    (25): ReLU(inplace=True)\n",
              "    (26): Conv2d(512, 512, kernel_size=(3, 3), stride=(1, 1), padding=(1, 1))\n",
              "    (27): ReLU(inplace=True)\n",
              "    (28): Conv2d(512, 512, kernel_size=(3, 3), stride=(1, 1), padding=(1, 1))\n",
              "    (29): ReLU(inplace=True)\n",
              "    (30): MaxPool2d(kernel_size=2, stride=2, padding=0, dilation=1, ceil_mode=False)\n",
              "  )\n",
              "  (avgpool): AdaptiveAvgPool2d(output_size=(7, 7))\n",
              "  (classifier): Sequential(\n",
              "    (0): Linear(in_features=25088, out_features=4096, bias=True)\n",
              "    (1): ReLU(inplace=True)\n",
              "    (2): Dropout(p=0.5, inplace=False)\n",
              "    (3): Linear(in_features=4096, out_features=4096, bias=True)\n",
              "    (4): ReLU(inplace=True)\n",
              "    (5): Dropout(p=0.5, inplace=False)\n",
              "    (6): Linear(in_features=4096, out_features=1000, bias=True)\n",
              "  )\n",
              ")"
            ]
          },
          "metadata": {
            "tags": []
          },
          "execution_count": 4
        }
      ]
    },
    {
      "cell_type": "code",
      "metadata": {
        "id": "ykhfnlQcnOyr",
        "colab_type": "code",
        "colab": {
          "base_uri": "https://localhost:8080/",
          "height": 32
        },
        "outputId": "45a62613-5edb-4687-cb28-5c582033ff3e"
      },
      "source": [
        "torch.equal(vgg16_conv['conv1_1_weight'], next(iter(vgg16.parameters())))"
      ],
      "execution_count": 5,
      "outputs": [
        {
          "output_type": "execute_result",
          "data": {
            "text/plain": [
              "True"
            ]
          },
          "metadata": {
            "tags": []
          },
          "execution_count": 5
        }
      ]
    },
    {
      "cell_type": "markdown",
      "metadata": {
        "id": "PRlmzXkjI4vs",
        "colab_type": "text"
      },
      "source": [
        "### Encoder\n"
      ]
    },
    {
      "cell_type": "code",
      "metadata": {
        "id": "TpxBb5bdpAaU",
        "colab_type": "code",
        "colab": {}
      },
      "source": [
        "vgg16 = torchvision.models.vgg16(pretrained=True)\n",
        "\n",
        "for param in vgg16.parameters(): \n",
        "  param.requires_grad = False\n",
        "\n",
        "encoder = vgg16.features[:-1]"
      ],
      "execution_count": 6,
      "outputs": []
    },
    {
      "cell_type": "markdown",
      "metadata": {
        "id": "oBDRSW0_UKfV",
        "colab_type": "text"
      },
      "source": [
        "### Decoder"
      ]
    },
    {
      "cell_type": "code",
      "metadata": {
        "id": "CaI2KjgyEouM",
        "colab_type": "code",
        "colab": {}
      },
      "source": [
        "decoder = nn.Sequential(\n",
        "          nn.Conv2d(512, 512, 3, padding=1), nn.ReLU(),\n",
        "          nn.Conv2d(512, 512, 3, padding=1), nn.ReLU(),\n",
        "          nn.Conv2d(512, 512, 3, padding=1), nn.ReLU(),\n",
        "          nn.Upsample(scale_factor=2, mode='bilinear', align_corners=False),\n",
        "\n",
        "          nn.Conv2d(512, 512, 3, padding=1), nn.ReLU(),\n",
        "          nn.Conv2d(512, 512, 3, padding=1), nn.ReLU(),\n",
        "          nn.Conv2d(512, 512, 3, padding=1), nn.ReLU(),\n",
        "          nn.Upsample(scale_factor=2, mode='bilinear', align_corners=False),\n",
        "\n",
        "          nn.Conv2d(512, 256, 3, padding=1), nn.ReLU(),\n",
        "          nn.Conv2d(256, 256, 3, padding=1), nn.ReLU(),\n",
        "          nn.Conv2d(256, 256, 3, padding=1), nn.ReLU(),\n",
        "          nn.Upsample(scale_factor=2, mode='bilinear', align_corners=False),\n",
        "\n",
        "          nn.Conv2d(256, 128, 3, padding=1), nn.ReLU(),\n",
        "          nn.Conv2d(128, 128, 3, padding=1), nn.ReLU(),\n",
        "          nn.Upsample(scale_factor=2, mode='bilinear', align_corners=False),\n",
        "\n",
        "          nn.Conv2d(128, 64, 3, padding=1), nn.ReLU(),\n",
        "          nn.Conv2d(64, 64, 3, padding=1), nn.ReLU(),\n",
        "          nn.Conv2d(64, 1, 1, padding=0)\n",
        "        )"
      ],
      "execution_count": 7,
      "outputs": []
    },
    {
      "cell_type": "markdown",
      "metadata": {
        "id": "uk9nSahBIS63",
        "colab_type": "text"
      },
      "source": [
        "### Encoder-Decoder"
      ]
    },
    {
      "cell_type": "code",
      "metadata": {
        "id": "fRmFIyRlIaBk",
        "colab_type": "code",
        "colab": {}
      },
      "source": [
        "class Generator(nn.Module):\n",
        "  def __init__(self):\n",
        "    super().__init__()\n",
        "    self.encoder = encoder\n",
        "    self.decoder = decoder\n",
        "  def forward(self, x):\n",
        "    x = self.encoder(x)\n",
        "    x = self.decoder(x)\n",
        "    return x "
      ],
      "execution_count": 9,
      "outputs": []
    },
    {
      "cell_type": "markdown",
      "metadata": {
        "id": "54EgbjcbIXsO",
        "colab_type": "text"
      },
      "source": [
        "## Loss function"
      ]
    },
    {
      "cell_type": "code",
      "metadata": {
        "id": "EZPV5NztJObH",
        "colab_type": "code",
        "colab": {}
      },
      "source": [
        "class BCELossWithDownsampling():\n",
        "  def __init__(self):\n",
        "    self.downsample = nn.AvgPool2d(4, stride=4, count_include_pad=False)\n",
        "    self.loss_fn = nn.BCEWithLogitsLoss()\n",
        "\n",
        "  def __call__(self, pred, y):\n",
        "    return self.loss_fn(self.downsample(pred), self.downsample(y))"
      ],
      "execution_count": 10,
      "outputs": []
    },
    {
      "cell_type": "markdown",
      "metadata": {
        "id": "dNl1zGZ5Idwq",
        "colab_type": "text"
      },
      "source": [
        "## 3. Training the encoder-decoder network"
      ]
    },
    {
      "cell_type": "markdown",
      "metadata": {
        "id": "OPErfbiurp6X",
        "colab_type": "text"
      },
      "source": [
        "### Data pre-processing"
      ]
    },
    {
      "cell_type": "code",
      "metadata": {
        "id": "hfEmPNdjrYr4",
        "colab_type": "code",
        "colab": {}
      },
      "source": [
        "def read_file(filename):\n",
        "\tlines = []\n",
        "\twith open(filename, 'r') as file:\n",
        "\t    for line in file: \n",
        "\t        line = line.strip() #or some other preprocessing\n",
        "\t        lines.append(line)\n",
        "\treturn lines\n",
        "\n",
        "class FixationDataset(Dataset):\n",
        "\tdef __init__(self, root_dir, image_file, fixation_file, transform=None):\n",
        "\t\tself.root_dir = root_dir\n",
        "\t\tself.image_files = read_file(image_file)\n",
        "\t\tself.fixation_files = read_file(fixation_file)\n",
        "\t\tself.transform = transform\n",
        "\t\tassert(len(self.image_files) == len(self.fixation_files))\n",
        "\n",
        "\tdef __len__(self):\n",
        "\t\treturn len(self.image_files)\n",
        "\n",
        "\tdef __getitem__(self, idx):\n",
        "\t\tif torch.is_tensor(idx):\n",
        "\t\t\tidx = idx.tolist()\n",
        "\t \n",
        "\t\timg_name = os.path.join(self.root_dir, self.image_files[idx])\n",
        "\t\timage = imageio.imread(img_name)\n",
        "\n",
        "\t\tfix_name = os.path.join(self.root_dir, self.fixation_files[idx])\n",
        "\t\tfix = imageio.imread(fix_name)\n",
        "\n",
        "\t\tsample = {'image': image, 'fixation': fix}\n",
        "\n",
        "\t\tif self.transform:\n",
        "\t\t\tsample = self.transform(sample)\n",
        "\n",
        "\t\treturn sample\n",
        "\n",
        "class Rescale():\n",
        "    '''Recaling data'''\n",
        "    def __init__(self):\n",
        "        pass\n",
        "    def __call__(self, sample):\n",
        "        image, fixation = sample['image'], sample['fixation']\n",
        "        image = image.astype(np.float32) / 255.0\n",
        "        fixation = fixation.astype(np.float32) / 255.0\n",
        "        return {'image': image, 'fixation': fixation}\n",
        "\n",
        "class ToTensor():\n",
        "    '''Convert data to a tensor'''\n",
        "    def __init__(self):\n",
        "        pass\n",
        "    def __call__(self, sample):\n",
        "        image, fixation = sample['image'], sample['fixation']\n",
        "        image = torch.from_numpy(np.transpose(image))\n",
        "        fixation = torch.from_numpy(np.expand_dims(fixation, axis=0))\n",
        "        return {'image': image, 'fixation': fixation}\n",
        "\n",
        "class Normalize():\n",
        "    '''Normalize tensor'''\n",
        "    def __init__(self):\n",
        "        pass\n",
        "    def __call__(self, sample):\n",
        "        image, fixation = sample['image'], sample['fixation']\n",
        "        normalize = torchvision.transforms.Normalize(mean=[0.485, 0.456, 0.406], std=[0.229, 0.224, 0.225])\n",
        "        return {'image': normalize(image), 'fixation': fixation}"
      ],
      "execution_count": 12,
      "outputs": []
    },
    {
      "cell_type": "markdown",
      "metadata": {
        "id": "tw6YbGVUsH2P",
        "colab_type": "text"
      },
      "source": [
        "### Training step"
      ]
    },
    {
      "cell_type": "code",
      "metadata": {
        "id": "ikl8PqSys1wp",
        "colab_type": "code",
        "colab": {}
      },
      "source": [
        "def get_dl(bs=20):\n",
        "    transform = torchvision.transforms.Compose([Rescale(), ToTensor(), Normalize()])\n",
        "    train_ds = FixationDataset('cv2_training_data', 'cv2_training_data/train_images.txt', 'cv2_training_data/train_fixations.txt', transform)\n",
        "    valid_ds = FixationDataset('cv2_validation_data', 'cv2_validation_data/val_images.txt', 'cv2_validation_data/val_fixations.txt', transform)\n",
        "\n",
        "    train_dl = DataLoader(train_ds, batch_size=bs, shuffle=True)\n",
        "    valid_dl = DataLoader(valid_ds, batch_size=bs * 2)\n",
        "    return train_dl, valid_dl"
      ],
      "execution_count": 13,
      "outputs": []
    },
    {
      "cell_type": "code",
      "metadata": {
        "id": "Wd6IRjL3LqnG",
        "colab_type": "code",
        "colab": {}
      },
      "source": [
        "def train(train_dl, valid_dl, model, loss_fn, opt, num_epoch):\n",
        "  for epoch in range(num_epoch):\n",
        "    print(\"training\")\n",
        "    model.train()\n",
        "    train_loss = 0;\n",
        "    for batch in train_dl:\n",
        "      \n",
        "      pred = model(batch['image'].to(device))\n",
        "      loss = loss_fn(pred, batch['fixation'].to(device))\n",
        "      train_loss += loss\n",
        "\n",
        "      loss.backward()\n",
        "      opt.step()\n",
        "      opt.zero_grad()\n",
        "    train_loss /= len(train_dl)\n",
        "\n",
        "    model.eval()\n",
        "    with torch.no_grad():\n",
        "      valid_loss = sum(loss_fn(model(batch['image'].to(device)), batch['fixation'].to(device)) for batch in valid_dl)\n",
        "    valid_loss /= len(valid_dl)\n",
        "    print(f'Epoch {epoch: 2d}, training loss = {train_loss: .4f}, validation loss = {valid_loss: .4f}') \n",
        "    \n",
        "    if epoch == num_epoch-1:\n",
        "      PATH = f'autoencoder_epoch_Exercise5_{epoch}_Adam_1e-6.ckpt'\n",
        "      torch.save({'epoch': epoch,\n",
        "                'model_state_dict': model.state_dict(),\n",
        "                'optimizer_state_dict': opt.state_dict(),\n",
        "                'train_loss': train_loss,\n",
        "                'valid_loss': valid_loss\n",
        "                  }, PATH)"
      ],
      "execution_count": 14,
      "outputs": []
    },
    {
      "cell_type": "code",
      "metadata": {
        "id": "sjX2EdkxPLBP",
        "colab_type": "code",
        "colab": {}
      },
      "source": [
        "device = torch.device(\"cuda:0\" if torch.cuda.is_available() else \"cpu\")\n",
        "model = Generator().to(device)\n",
        "loss_fn = BCELossWithDownsampling()\n",
        "opt = torch.optim.Adam(model.parameters(), lr=1e-6,weight_decay=1e-4)\n",
        "# opt = torch.optim.SGD(model.parameters(), lr=1e-2) \n",
        "train_dl, valid_dl = get_dl()"
      ],
      "execution_count": null,
      "outputs": []
    },
    {
      "cell_type": "code",
      "metadata": {
        "id": "m7Dwjc312B3E",
        "colab_type": "code",
        "colab": {
          "base_uri": "https://localhost:8080/",
          "height": 331
        },
        "outputId": "d6d52d2d-ecc5-48e5-f985-c2c504c7b519"
      },
      "source": [
        "# train\n",
        "train(train_dl, valid_dl, model, loss_fn, opt, 15)"
      ],
      "execution_count": null,
      "outputs": [
        {
          "output_type": "stream",
          "text": [
            "training\n"
          ],
          "name": "stdout"
        },
        {
          "output_type": "error",
          "ename": "RuntimeError",
          "evalue": "ignored",
          "traceback": [
            "\u001b[0;31m---------------------------------------------------------------------------\u001b[0m",
            "\u001b[0;31mRuntimeError\u001b[0m                              Traceback (most recent call last)",
            "\u001b[0;32m<ipython-input-14-537ed086a58d>\u001b[0m in \u001b[0;36m<module>\u001b[0;34m()\u001b[0m\n\u001b[1;32m      1\u001b[0m \u001b[0;31m# train\u001b[0m\u001b[0;34m\u001b[0m\u001b[0;34m\u001b[0m\u001b[0;34m\u001b[0m\u001b[0m\n\u001b[0;32m----> 2\u001b[0;31m \u001b[0mfit\u001b[0m\u001b[0;34m(\u001b[0m\u001b[0mtrain_dl\u001b[0m\u001b[0;34m,\u001b[0m \u001b[0mvalid_dl\u001b[0m\u001b[0;34m,\u001b[0m \u001b[0mmodel\u001b[0m\u001b[0;34m,\u001b[0m \u001b[0mloss_fn\u001b[0m\u001b[0;34m,\u001b[0m \u001b[0mopt\u001b[0m\u001b[0;34m,\u001b[0m \u001b[0;36m15\u001b[0m\u001b[0;34m)\u001b[0m\u001b[0;34m\u001b[0m\u001b[0;34m\u001b[0m\u001b[0m\n\u001b[0m",
            "\u001b[0;32m<ipython-input-12-8412ddd231c9>\u001b[0m in \u001b[0;36mfit\u001b[0;34m(train_dl, valid_dl, model, loss_fn, opt, num_epoch)\u001b[0m\n\u001b[1;32m      6\u001b[0m     \u001b[0;32mfor\u001b[0m \u001b[0mbatch\u001b[0m \u001b[0;32min\u001b[0m \u001b[0mtrain_dl\u001b[0m\u001b[0;34m:\u001b[0m\u001b[0;34m\u001b[0m\u001b[0;34m\u001b[0m\u001b[0m\n\u001b[1;32m      7\u001b[0m \u001b[0;34m\u001b[0m\u001b[0m\n\u001b[0;32m----> 8\u001b[0;31m       \u001b[0mpred\u001b[0m \u001b[0;34m=\u001b[0m \u001b[0mmodel\u001b[0m\u001b[0;34m(\u001b[0m\u001b[0mbatch\u001b[0m\u001b[0;34m[\u001b[0m\u001b[0;34m'image'\u001b[0m\u001b[0;34m]\u001b[0m\u001b[0;34m.\u001b[0m\u001b[0mto\u001b[0m\u001b[0;34m(\u001b[0m\u001b[0mdevice\u001b[0m\u001b[0;34m)\u001b[0m\u001b[0;34m)\u001b[0m\u001b[0;34m\u001b[0m\u001b[0;34m\u001b[0m\u001b[0m\n\u001b[0m\u001b[1;32m      9\u001b[0m       \u001b[0mloss\u001b[0m \u001b[0;34m=\u001b[0m \u001b[0mloss_fn\u001b[0m\u001b[0;34m(\u001b[0m\u001b[0mpred\u001b[0m\u001b[0;34m,\u001b[0m \u001b[0mbatch\u001b[0m\u001b[0;34m[\u001b[0m\u001b[0;34m'fixation'\u001b[0m\u001b[0;34m]\u001b[0m\u001b[0;34m.\u001b[0m\u001b[0mto\u001b[0m\u001b[0;34m(\u001b[0m\u001b[0mdevice\u001b[0m\u001b[0;34m)\u001b[0m\u001b[0;34m)\u001b[0m\u001b[0;34m\u001b[0m\u001b[0;34m\u001b[0m\u001b[0m\n\u001b[1;32m     10\u001b[0m       \u001b[0mtrain_loss\u001b[0m \u001b[0;34m+=\u001b[0m \u001b[0mloss\u001b[0m\u001b[0;34m\u001b[0m\u001b[0;34m\u001b[0m\u001b[0m\n",
            "\u001b[0;32m/usr/local/lib/python3.6/dist-packages/torch/nn/modules/module.py\u001b[0m in \u001b[0;36m__call__\u001b[0;34m(self, *input, **kwargs)\u001b[0m\n\u001b[1;32m    548\u001b[0m             \u001b[0mresult\u001b[0m \u001b[0;34m=\u001b[0m \u001b[0mself\u001b[0m\u001b[0;34m.\u001b[0m\u001b[0m_slow_forward\u001b[0m\u001b[0;34m(\u001b[0m\u001b[0;34m*\u001b[0m\u001b[0minput\u001b[0m\u001b[0;34m,\u001b[0m \u001b[0;34m**\u001b[0m\u001b[0mkwargs\u001b[0m\u001b[0;34m)\u001b[0m\u001b[0;34m\u001b[0m\u001b[0;34m\u001b[0m\u001b[0m\n\u001b[1;32m    549\u001b[0m         \u001b[0;32melse\u001b[0m\u001b[0;34m:\u001b[0m\u001b[0;34m\u001b[0m\u001b[0;34m\u001b[0m\u001b[0m\n\u001b[0;32m--> 550\u001b[0;31m             \u001b[0mresult\u001b[0m \u001b[0;34m=\u001b[0m \u001b[0mself\u001b[0m\u001b[0;34m.\u001b[0m\u001b[0mforward\u001b[0m\u001b[0;34m(\u001b[0m\u001b[0;34m*\u001b[0m\u001b[0minput\u001b[0m\u001b[0;34m,\u001b[0m \u001b[0;34m**\u001b[0m\u001b[0mkwargs\u001b[0m\u001b[0;34m)\u001b[0m\u001b[0;34m\u001b[0m\u001b[0;34m\u001b[0m\u001b[0m\n\u001b[0m\u001b[1;32m    551\u001b[0m         \u001b[0;32mfor\u001b[0m \u001b[0mhook\u001b[0m \u001b[0;32min\u001b[0m \u001b[0mself\u001b[0m\u001b[0;34m.\u001b[0m\u001b[0m_forward_hooks\u001b[0m\u001b[0;34m.\u001b[0m\u001b[0mvalues\u001b[0m\u001b[0;34m(\u001b[0m\u001b[0;34m)\u001b[0m\u001b[0;34m:\u001b[0m\u001b[0;34m\u001b[0m\u001b[0;34m\u001b[0m\u001b[0m\n\u001b[1;32m    552\u001b[0m             \u001b[0mhook_result\u001b[0m \u001b[0;34m=\u001b[0m \u001b[0mhook\u001b[0m\u001b[0;34m(\u001b[0m\u001b[0mself\u001b[0m\u001b[0;34m,\u001b[0m \u001b[0minput\u001b[0m\u001b[0;34m,\u001b[0m \u001b[0mresult\u001b[0m\u001b[0;34m)\u001b[0m\u001b[0;34m\u001b[0m\u001b[0;34m\u001b[0m\u001b[0m\n",
            "\u001b[0;32m<ipython-input-8-66e0577956be>\u001b[0m in \u001b[0;36mforward\u001b[0;34m(self, x)\u001b[0m\n\u001b[1;32m      7\u001b[0m   \u001b[0;32mdef\u001b[0m \u001b[0mforward\u001b[0m\u001b[0;34m(\u001b[0m\u001b[0mself\u001b[0m\u001b[0;34m,\u001b[0m \u001b[0mx\u001b[0m\u001b[0;34m)\u001b[0m\u001b[0;34m:\u001b[0m\u001b[0;34m\u001b[0m\u001b[0;34m\u001b[0m\u001b[0m\n\u001b[1;32m      8\u001b[0m     \u001b[0mx\u001b[0m \u001b[0;34m=\u001b[0m \u001b[0mself\u001b[0m\u001b[0;34m.\u001b[0m\u001b[0mencoder\u001b[0m\u001b[0;34m(\u001b[0m\u001b[0mx\u001b[0m\u001b[0;34m)\u001b[0m\u001b[0;34m\u001b[0m\u001b[0;34m\u001b[0m\u001b[0m\n\u001b[0;32m----> 9\u001b[0;31m     \u001b[0mx\u001b[0m \u001b[0;34m=\u001b[0m \u001b[0mself\u001b[0m\u001b[0;34m.\u001b[0m\u001b[0mdecoder\u001b[0m\u001b[0;34m(\u001b[0m\u001b[0mx\u001b[0m\u001b[0;34m)\u001b[0m\u001b[0;34m\u001b[0m\u001b[0;34m\u001b[0m\u001b[0m\n\u001b[0m\u001b[1;32m     10\u001b[0m     \u001b[0;31m# x = self.sigmoid(x)\u001b[0m\u001b[0;34m\u001b[0m\u001b[0;34m\u001b[0m\u001b[0;34m\u001b[0m\u001b[0m\n\u001b[1;32m     11\u001b[0m     \u001b[0;32mreturn\u001b[0m \u001b[0mx\u001b[0m\u001b[0;34m\u001b[0m\u001b[0;34m\u001b[0m\u001b[0m\n",
            "\u001b[0;32m/usr/local/lib/python3.6/dist-packages/torch/nn/modules/module.py\u001b[0m in \u001b[0;36m__call__\u001b[0;34m(self, *input, **kwargs)\u001b[0m\n\u001b[1;32m    548\u001b[0m             \u001b[0mresult\u001b[0m \u001b[0;34m=\u001b[0m \u001b[0mself\u001b[0m\u001b[0;34m.\u001b[0m\u001b[0m_slow_forward\u001b[0m\u001b[0;34m(\u001b[0m\u001b[0;34m*\u001b[0m\u001b[0minput\u001b[0m\u001b[0;34m,\u001b[0m \u001b[0;34m**\u001b[0m\u001b[0mkwargs\u001b[0m\u001b[0;34m)\u001b[0m\u001b[0;34m\u001b[0m\u001b[0;34m\u001b[0m\u001b[0m\n\u001b[1;32m    549\u001b[0m         \u001b[0;32melse\u001b[0m\u001b[0;34m:\u001b[0m\u001b[0;34m\u001b[0m\u001b[0;34m\u001b[0m\u001b[0m\n\u001b[0;32m--> 550\u001b[0;31m             \u001b[0mresult\u001b[0m \u001b[0;34m=\u001b[0m \u001b[0mself\u001b[0m\u001b[0;34m.\u001b[0m\u001b[0mforward\u001b[0m\u001b[0;34m(\u001b[0m\u001b[0;34m*\u001b[0m\u001b[0minput\u001b[0m\u001b[0;34m,\u001b[0m \u001b[0;34m**\u001b[0m\u001b[0mkwargs\u001b[0m\u001b[0;34m)\u001b[0m\u001b[0;34m\u001b[0m\u001b[0;34m\u001b[0m\u001b[0m\n\u001b[0m\u001b[1;32m    551\u001b[0m         \u001b[0;32mfor\u001b[0m \u001b[0mhook\u001b[0m \u001b[0;32min\u001b[0m \u001b[0mself\u001b[0m\u001b[0;34m.\u001b[0m\u001b[0m_forward_hooks\u001b[0m\u001b[0;34m.\u001b[0m\u001b[0mvalues\u001b[0m\u001b[0;34m(\u001b[0m\u001b[0;34m)\u001b[0m\u001b[0;34m:\u001b[0m\u001b[0;34m\u001b[0m\u001b[0;34m\u001b[0m\u001b[0m\n\u001b[1;32m    552\u001b[0m             \u001b[0mhook_result\u001b[0m \u001b[0;34m=\u001b[0m \u001b[0mhook\u001b[0m\u001b[0;34m(\u001b[0m\u001b[0mself\u001b[0m\u001b[0;34m,\u001b[0m \u001b[0minput\u001b[0m\u001b[0;34m,\u001b[0m \u001b[0mresult\u001b[0m\u001b[0;34m)\u001b[0m\u001b[0;34m\u001b[0m\u001b[0;34m\u001b[0m\u001b[0m\n",
            "\u001b[0;32m/usr/local/lib/python3.6/dist-packages/torch/nn/modules/container.py\u001b[0m in \u001b[0;36mforward\u001b[0;34m(self, input)\u001b[0m\n\u001b[1;32m     98\u001b[0m     \u001b[0;32mdef\u001b[0m \u001b[0mforward\u001b[0m\u001b[0;34m(\u001b[0m\u001b[0mself\u001b[0m\u001b[0;34m,\u001b[0m \u001b[0minput\u001b[0m\u001b[0;34m)\u001b[0m\u001b[0;34m:\u001b[0m\u001b[0;34m\u001b[0m\u001b[0;34m\u001b[0m\u001b[0m\n\u001b[1;32m     99\u001b[0m         \u001b[0;32mfor\u001b[0m \u001b[0mmodule\u001b[0m \u001b[0;32min\u001b[0m \u001b[0mself\u001b[0m\u001b[0;34m:\u001b[0m\u001b[0;34m\u001b[0m\u001b[0;34m\u001b[0m\u001b[0m\n\u001b[0;32m--> 100\u001b[0;31m             \u001b[0minput\u001b[0m \u001b[0;34m=\u001b[0m \u001b[0mmodule\u001b[0m\u001b[0;34m(\u001b[0m\u001b[0minput\u001b[0m\u001b[0;34m)\u001b[0m\u001b[0;34m\u001b[0m\u001b[0;34m\u001b[0m\u001b[0m\n\u001b[0m\u001b[1;32m    101\u001b[0m         \u001b[0;32mreturn\u001b[0m \u001b[0minput\u001b[0m\u001b[0;34m\u001b[0m\u001b[0;34m\u001b[0m\u001b[0m\n\u001b[1;32m    102\u001b[0m \u001b[0;34m\u001b[0m\u001b[0m\n",
            "\u001b[0;32m/usr/local/lib/python3.6/dist-packages/torch/nn/modules/module.py\u001b[0m in \u001b[0;36m__call__\u001b[0;34m(self, *input, **kwargs)\u001b[0m\n\u001b[1;32m    548\u001b[0m             \u001b[0mresult\u001b[0m \u001b[0;34m=\u001b[0m \u001b[0mself\u001b[0m\u001b[0;34m.\u001b[0m\u001b[0m_slow_forward\u001b[0m\u001b[0;34m(\u001b[0m\u001b[0;34m*\u001b[0m\u001b[0minput\u001b[0m\u001b[0;34m,\u001b[0m \u001b[0;34m**\u001b[0m\u001b[0mkwargs\u001b[0m\u001b[0;34m)\u001b[0m\u001b[0;34m\u001b[0m\u001b[0;34m\u001b[0m\u001b[0m\n\u001b[1;32m    549\u001b[0m         \u001b[0;32melse\u001b[0m\u001b[0;34m:\u001b[0m\u001b[0;34m\u001b[0m\u001b[0;34m\u001b[0m\u001b[0m\n\u001b[0;32m--> 550\u001b[0;31m             \u001b[0mresult\u001b[0m \u001b[0;34m=\u001b[0m \u001b[0mself\u001b[0m\u001b[0;34m.\u001b[0m\u001b[0mforward\u001b[0m\u001b[0;34m(\u001b[0m\u001b[0;34m*\u001b[0m\u001b[0minput\u001b[0m\u001b[0;34m,\u001b[0m \u001b[0;34m**\u001b[0m\u001b[0mkwargs\u001b[0m\u001b[0;34m)\u001b[0m\u001b[0;34m\u001b[0m\u001b[0;34m\u001b[0m\u001b[0m\n\u001b[0m\u001b[1;32m    551\u001b[0m         \u001b[0;32mfor\u001b[0m \u001b[0mhook\u001b[0m \u001b[0;32min\u001b[0m \u001b[0mself\u001b[0m\u001b[0;34m.\u001b[0m\u001b[0m_forward_hooks\u001b[0m\u001b[0;34m.\u001b[0m\u001b[0mvalues\u001b[0m\u001b[0;34m(\u001b[0m\u001b[0;34m)\u001b[0m\u001b[0;34m:\u001b[0m\u001b[0;34m\u001b[0m\u001b[0;34m\u001b[0m\u001b[0m\n\u001b[1;32m    552\u001b[0m             \u001b[0mhook_result\u001b[0m \u001b[0;34m=\u001b[0m \u001b[0mhook\u001b[0m\u001b[0;34m(\u001b[0m\u001b[0mself\u001b[0m\u001b[0;34m,\u001b[0m \u001b[0minput\u001b[0m\u001b[0;34m,\u001b[0m \u001b[0mresult\u001b[0m\u001b[0;34m)\u001b[0m\u001b[0;34m\u001b[0m\u001b[0;34m\u001b[0m\u001b[0m\n",
            "\u001b[0;32m/usr/local/lib/python3.6/dist-packages/torch/nn/modules/conv.py\u001b[0m in \u001b[0;36mforward\u001b[0;34m(self, input)\u001b[0m\n\u001b[1;32m    351\u001b[0m \u001b[0;34m\u001b[0m\u001b[0m\n\u001b[1;32m    352\u001b[0m     \u001b[0;32mdef\u001b[0m \u001b[0mforward\u001b[0m\u001b[0;34m(\u001b[0m\u001b[0mself\u001b[0m\u001b[0;34m,\u001b[0m \u001b[0minput\u001b[0m\u001b[0;34m)\u001b[0m\u001b[0;34m:\u001b[0m\u001b[0;34m\u001b[0m\u001b[0;34m\u001b[0m\u001b[0m\n\u001b[0;32m--> 353\u001b[0;31m         \u001b[0;32mreturn\u001b[0m \u001b[0mself\u001b[0m\u001b[0;34m.\u001b[0m\u001b[0m_conv_forward\u001b[0m\u001b[0;34m(\u001b[0m\u001b[0minput\u001b[0m\u001b[0;34m,\u001b[0m \u001b[0mself\u001b[0m\u001b[0;34m.\u001b[0m\u001b[0mweight\u001b[0m\u001b[0;34m)\u001b[0m\u001b[0;34m\u001b[0m\u001b[0;34m\u001b[0m\u001b[0m\n\u001b[0m\u001b[1;32m    354\u001b[0m \u001b[0;34m\u001b[0m\u001b[0m\n\u001b[1;32m    355\u001b[0m \u001b[0;32mclass\u001b[0m \u001b[0mConv3d\u001b[0m\u001b[0;34m(\u001b[0m\u001b[0m_ConvNd\u001b[0m\u001b[0;34m)\u001b[0m\u001b[0;34m:\u001b[0m\u001b[0;34m\u001b[0m\u001b[0;34m\u001b[0m\u001b[0m\n",
            "\u001b[0;32m/usr/local/lib/python3.6/dist-packages/torch/nn/modules/conv.py\u001b[0m in \u001b[0;36m_conv_forward\u001b[0;34m(self, input, weight)\u001b[0m\n\u001b[1;32m    348\u001b[0m                             _pair(0), self.dilation, self.groups)\n\u001b[1;32m    349\u001b[0m         return F.conv2d(input, weight, self.bias, self.stride,\n\u001b[0;32m--> 350\u001b[0;31m                         self.padding, self.dilation, self.groups)\n\u001b[0m\u001b[1;32m    351\u001b[0m \u001b[0;34m\u001b[0m\u001b[0m\n\u001b[1;32m    352\u001b[0m     \u001b[0;32mdef\u001b[0m \u001b[0mforward\u001b[0m\u001b[0;34m(\u001b[0m\u001b[0mself\u001b[0m\u001b[0;34m,\u001b[0m \u001b[0minput\u001b[0m\u001b[0;34m)\u001b[0m\u001b[0;34m:\u001b[0m\u001b[0;34m\u001b[0m\u001b[0;34m\u001b[0m\u001b[0m\n",
            "\u001b[0;31mRuntimeError\u001b[0m: Given groups=1, weight of size [256, 256, 3, 3], expected input[20, 512, 56, 56] to have 256 channels, but got 512 channels instead"
          ]
        }
      ]
    },
    {
      "cell_type": "markdown",
      "metadata": {
        "id": "gCmy4Em0PWIc",
        "colab_type": "text"
      },
      "source": [
        "# Load Model (if necessary)"
      ]
    },
    {
      "cell_type": "code",
      "metadata": {
        "id": "w3T5t-lZ6M8j",
        "colab_type": "code",
        "colab": {}
      },
      "source": [
        "device = torch.device(\"cuda:0\" if torch.cuda.is_available() else \"cpu\")\n",
        "model = Generator().to(device)\n",
        "opt = torch.optim.SGD(model.parameters(), lr=1e-4,weight_decay=1e-4) \n",
        "checkpoint = torch.load('autoencoder_epoch_Exercise5_14_Adam_1e-4.ckpt')\n",
        "\n",
        "\n",
        "model.load_state_dict(checkpoint['model_state_dict'])\n",
        "opt.load_state_dict(checkpoint['optimizer_state_dict'])\n",
        "curr_epoch_backup = checkpoint['epoch']\n",
        "train_loss_backup = checkpoint['train_loss']\n",
        "valid_loss_backup = checkpoint['valid_loss']"
      ],
      "execution_count": 15,
      "outputs": []
    },
    {
      "cell_type": "markdown",
      "metadata": {
        "id": "ezQEj6u6cqtE",
        "colab_type": "text"
      },
      "source": [
        "# Test dataset"
      ]
    },
    {
      "cell_type": "code",
      "metadata": {
        "id": "cWOjMoFPk3jM",
        "colab_type": "code",
        "colab": {}
      },
      "source": [
        "def get_test_dl(bs=20):\n",
        "    transform = torchvision.transforms.Compose([TestDatasetRescale(), TestToTensor(), TestNormalize()])\n",
        "    test_ds = TestDataset('cv2_testing_data','cv2_testing_data/test_images.txt', transform)\n",
        "\n",
        "    test_dl = DataLoader(test_ds, batch_size=bs, shuffle=True,num_workers=6)\n",
        "    return test_dl"
      ],
      "execution_count": 16,
      "outputs": []
    },
    {
      "cell_type": "code",
      "metadata": {
        "id": "joc1wnEPZ6GG",
        "colab_type": "code",
        "colab": {}
      },
      "source": [
        "class TestDataset(Dataset):\n",
        "\tdef __init__(self, root_dir, image_file, transform=None):\n",
        "\t\tself.root_dir = root_dir\n",
        "\t\tself.image_files = read_file(image_file)\n",
        "\t\tself.transform = transform\n",
        "\n",
        "\tdef __len__(self):\n",
        "\t\treturn len(self.image_files)\n",
        "\n",
        "\tdef __getitem__(self, idx):\n",
        "\t\tif torch.is_tensor(idx):\n",
        "\t\t\tidx = idx.tolist()\n",
        "\t \n",
        "\t\timg_name = os.path.join(self.root_dir, self.image_files[idx])\n",
        "\t\timage = imageio.imread(img_name)\n",
        "\n",
        "\t\tsample = {'image': image}\n",
        "\n",
        "\t\tif self.transform:\n",
        "\t\t\tsample = self.transform(sample)\n",
        "\n",
        "\t\treturn sample\n",
        "\n",
        "class TestDatasetRescale():\n",
        "    '''Recaling data'''\n",
        "    def __init__(self):\n",
        "        pass\n",
        "    def __call__(self, sample):\n",
        "        image = sample['image']\n",
        "        image = image.astype(np.float32) / 255.0\n",
        "        return {'image': image}\n",
        "\n",
        "class TestToTensor():\n",
        "    '''Convert data to a tensor'''\n",
        "    def __init__(self):\n",
        "        pass\n",
        "    def __call__(self, sample):\n",
        "        image = sample['image']\n",
        "        image = torch.from_numpy(np.transpose(image))\n",
        "        return {'image': image}\n",
        "\n",
        "class TestNormalize():\n",
        "    '''Normalize tensor'''\n",
        "    def __init__(self):\n",
        "        pass\n",
        "    def __call__(self, sample):\n",
        "        image = sample['image']\n",
        "        normalize = torchvision.transforms.Normalize(mean=[0.485, 0.456, 0.406], std=[0.229, 0.224, 0.225])\n",
        "        return {'image': normalize(image)}\n",
        "\n"
      ],
      "execution_count": 17,
      "outputs": []
    },
    {
      "cell_type": "markdown",
      "metadata": {
        "id": "gG6tGogUTc0e",
        "colab_type": "text"
      },
      "source": [
        "## Pre-processing data\n",
        "Reference:\n",
        "https://github.com/immortal3/MLNet-Pytorch"
      ]
    },
    {
      "cell_type": "code",
      "metadata": {
        "id": "bJn0uRYoTfRC",
        "colab_type": "code",
        "colab": {}
      },
      "source": [
        "import os \n",
        "from sklearn.utils import shuffle\n",
        "\n",
        "imgs_train_path = 'cv2_training_data/images/train'\n",
        "maps_train_path = 'cv2_training_data/fixations/train'\n",
        "\n",
        "imgs_val_path = 'cv2_validation_data/images/validation/'\n",
        "maps_val_path = 'cv2_validation_data/fixations/validation/'\n",
        "\n",
        "\n",
        "\n",
        "def generator(b_s, phase_gen='train'):\n",
        "    if phase_gen == 'train':\n",
        "        images = [imgs_train_path + f for f in os.listdir(imgs_train_path) if f.endswith('.png')]\n",
        "        maps = [maps_train_path + f for f in os.listdir(maps_train_path) if f.endswith('.png')]\n",
        "    elif phase_gen == 'val':\n",
        "        images = [imgs_val_path + f for f in os.listdir(imgs_val_path) if f.endswith('.png')]\n",
        "        maps = [maps_val_path + f for f in os.listdir(maps_val_path) if f.endswith('.png')]\n",
        "    else:\n",
        "        raise NotImplementedError\n",
        "\n",
        "    images.sort()\n",
        "    maps.sort()\n",
        "    \n",
        "    images , maps = shuffle(images,maps)\n",
        "    \n",
        "    counter = 0\n",
        "    \n",
        "    while True:\n",
        "        yield preprocess_images(images[counter:counter + b_s], shape_r, shape_c), preprocess_maps(maps[counter:counter + b_s], shape_r_gt, shape_c_gt)\n",
        "        if counter + b_s >= len(images):\n",
        "          break\n",
        "        counter = counter + b_s\n",
        "\n",
        "def preprocess_images(paths, shape_r, shape_c):\n",
        "    ims = np.zeros((len(paths), shape_r, shape_c, 3))\n",
        "\n",
        "    for i, path in enumerate(paths):\n",
        "        original_image = cv2.imread(path)\n",
        "        padded_image = padding(original_image, shape_r, shape_c, 3)\n",
        "        ims[i] = padded_image.astype('float')\n",
        "    \n",
        "#     cv2 : BGR\n",
        "#     PIL : RGB\n",
        "    ims = ims[...,::-1]\n",
        "    ims /= 255.0\n",
        "    ims = np.rollaxis(ims, 3, 1)  \n",
        "    return ims\n",
        "\n",
        "\n",
        "def preprocess_maps(paths, shape_r, shape_c):\n",
        "    ims = np.zeros((len(paths), 1, shape_r, shape_c))\n",
        "\n",
        "    for i, path in enumerate(paths):\n",
        "        original_map = cv2.imread(path, 0)\n",
        "        padded_map = padding(original_map, shape_r, shape_c, 1)\n",
        "        ims[i, 0] = padded_map.astype(np.float32)\n",
        "        ims[i, 0] /= 255.0\n",
        "        \n",
        "    return ims\n",
        "\n",
        "def padding(img, shape_r=224, shape_c=224, channels=3):\n",
        "    img_padded = np.zeros((shape_r, shape_c, channels) , dtype=np.uint8)\n",
        "    if channels == 1:\n",
        "        img_padded = np.zeros((shape_r, shape_c), dtype=np.uint8)\n",
        "\n",
        "    original_shape = img.shape\n",
        "    rows_rate = original_shape[0]/shape_r\n",
        "    cols_rate = original_shape[1]/shape_c\n",
        "\n",
        "    if rows_rate > cols_rate:\n",
        "        new_cols = (original_shape[1] * shape_r) // original_shape[0]\n",
        "        img = cv2.resize(img, (new_cols, shape_r))\n",
        "        if new_cols > shape_c:\n",
        "            new_cols = shape_c\n",
        "        img_padded[:, ((img_padded.shape[1] - new_cols) // 2):((img_padded.shape[1] - new_cols) // 2 + new_cols)] = img\n",
        "    else:\n",
        "        new_rows = (original_shape[0] * shape_c) // original_shape[1]\n",
        "        img = cv2.resize(img, (shape_c, new_rows))\n",
        "        if new_rows > shape_r:\n",
        "            new_rows = shape_r\n",
        "        img_padded[((img_padded.shape[0] - new_rows) // 2):((img_padded.shape[0] - new_rows) // 2 + new_rows), :] = img\n",
        "\n",
        "    return img_padded"
      ],
      "execution_count": 19,
      "outputs": []
    },
    {
      "cell_type": "markdown",
      "metadata": {
        "id": "nMIwWKeTqRlQ",
        "colab_type": "text"
      },
      "source": [
        "# test_maps directory\n",
        "\n",
        "\n"
      ]
    },
    {
      "cell_type": "markdown",
      "metadata": {
        "id": "V_LFP04xqjuy",
        "colab_type": "text"
      },
      "source": [
        "## Removing"
      ]
    },
    {
      "cell_type": "code",
      "metadata": {
        "id": "jdS9g03nqfNR",
        "colab_type": "code",
        "colab": {}
      },
      "source": [
        "# removing\n",
        "! rm -rf test_maps\n"
      ],
      "execution_count": null,
      "outputs": []
    },
    {
      "cell_type": "markdown",
      "metadata": {
        "id": "gbQDy0sAqon4",
        "colab_type": "text"
      },
      "source": [
        "### Creating"
      ]
    },
    {
      "cell_type": "code",
      "metadata": {
        "id": "mOZrc2H9qgcz",
        "colab_type": "code",
        "colab": {}
      },
      "source": [
        "# creating\n",
        "! mkdir test_maps"
      ],
      "execution_count": null,
      "outputs": []
    },
    {
      "cell_type": "markdown",
      "metadata": {
        "id": "c85G6gOtqrsm",
        "colab_type": "text"
      },
      "source": [
        "## Generate test_maps\n",
        "Reference: https://github.com/immortal3/MLNet-Pytorch"
      ]
    },
    {
      "cell_type": "code",
      "metadata": {
        "id": "k5ppwyeActWI",
        "colab_type": "code",
        "colab": {}
      },
      "source": [
        "shape_r = 224\n",
        "shape_c = 224\n",
        "test_dl = get_test_dl()\n",
        "\n",
        "import time\n",
        "import torchvision.transforms as transforms\n",
        "normalize = transforms.Normalize(mean=[0.485, 0.456, 0.406],\n",
        "                                 std=[0.229, 0.224, 0.225])\n",
        "\n",
        "test_file = [ f for f in os.listdir('cv2_testing_data/images/test/') if f.endswith('.png') ]\n",
        "\n",
        "for i in test_file:\n",
        "    img = preprocess_images(['cv2_testing_data/images/test/'+i],shape_r,shape_c)\n",
        "    img = torch.tensor(img.copy(),dtype=torch.float)\n",
        "    for idx,x in enumerate(img):\n",
        "        img[idx] = normalize(x)\n",
        "    img = img.cuda()\n",
        "    \n",
        "    a = torch.sigmoid(model(img))\n",
        "    pred = a*255.0\n",
        "    # print(pred[0])\n",
        "    # print(\"$$$$$$\")\n",
        "    cv2.imwrite('test_maps/' + 'prediction-' + i[6:-4] + '.png',pred[0].squeeze(0).data.cpu().numpy())\n"
      ],
      "execution_count": 20,
      "outputs": []
    },
    {
      "cell_type": "code",
      "metadata": {
        "id": "MQP21ZxDc8RO",
        "colab_type": "code",
        "colab": {}
      },
      "source": [
        ""
      ],
      "execution_count": null,
      "outputs": []
    }
  ]
}